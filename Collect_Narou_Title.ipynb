{
 "cells": [
  {
   "cell_type": "markdown",
   "metadata": {},
   "source": [
    "## Web Novelのタイトルデータを保存する"
   ]
  },
  {
   "cell_type": "markdown",
   "metadata": {},
   "source": [
    "もし，./ndataがない場合は`mkdir ndata`してください"
   ]
  },
  {
   "cell_type": "code",
   "execution_count": 58,
   "metadata": {},
   "outputs": [],
   "source": [
    "import json\n",
    "import requests\n",
    "import gzip\n",
    "import time\n",
    "import re\n",
    "from datetime import datetime\n",
    "import string\n",
    "from pprint import pprint\n",
    "import pandas as pd\n",
    "import pickle\n",
    "from sudachipy import tokenizer \n",
    "from sudachipy import dictionary\n",
    "tokenizer_obj = dictionary.Dictionary().create()\n",
    "mode = tokenizer.Tokenizer.SplitMode.C"
   ]
  },
  {
   "cell_type": "code",
   "execution_count": 11,
   "metadata": {},
   "outputs": [],
   "source": [
    "data_path = './ndata/'"
   ]
  },
  {
   "cell_type": "markdown",
   "metadata": {},
   "source": [
    "## Narou APIのテスト"
   ]
  },
  {
   "cell_type": "code",
   "execution_count": 6,
   "metadata": {},
   "outputs": [
    {
     "name": "stdout",
     "output_type": "stream",
     "text": [
      "[{'allcount': 699662},\n",
      " {'all_hyoka_cnt': 11,\n",
      "  'all_point': 92,\n",
      "  'biggenre': 2,\n",
      "  'daily_point': 2,\n",
      "  'end': 1,\n",
      "  'fav_novel_cnt': 78,\n",
      "  'general_all_no': 156,\n",
      "  'general_firstup': '2019-05-15 23:29:44',\n",
      "  'general_lastup': '2019-12-28 13:27:49',\n",
      "  'genre': 201,\n",
      "  'gensaku': '',\n",
      "  'global_point': 248,\n",
      "  'impression_cnt': 29,\n",
      "  'isbl': 0,\n",
      "  'isgl': 0,\n",
      "  'isr15': 1,\n",
      "  'isstop': 0,\n",
      "  'istenni': 1,\n",
      "  'istensei': 1,\n",
      "  'iszankoku': 1,\n",
      "  'kaiwaritu': 25,\n",
      "  'keyword': 'R15 残酷な描写あり 異世界転生 異世界転移 異能力バトル 冒険 近未来 人工知能 女主人公 異星 チート 新世界 ドラゴン '\n",
      "             '異世界 不死身 魔法 魔術師 ナノテクノロジー 相棒',\n",
      "  'length': 517191,\n",
      "  'monthly_point': 86,\n",
      "  'ncode': 'N9318FM',\n",
      "  'novel_type': 1,\n",
      "  'novelupdated_at': '2019-12-28 13:27:49',\n",
      "  'pc_or_k': 2,\n",
      "  'quarter_point': 208,\n",
      "  'review_cnt': 0,\n",
      "  'sasie_cnt': 13,\n",
      "  'story': '退屈な地球を自ら飛び出した少女・荒野拓美。数千年に渡る放浪の末に\\n'\n",
      "           '辿り着いた新世界で、相棒であるナノテクノロジーＡＩ・タカネと共に\\n'\n",
      "           '新たな人生に挑む！そんな彼女の切り札は、どんな損傷も一瞬で修復し\\n'\n",
      "           'さらに喰らった生き物の特性を自分のものにするチートな体。\\n'\n",
      "           '地味だけど便利なこの能力と創意工夫、そしてタカネのお節介があれば\\n'\n",
      "           '強敵も厄介事も何のその。バイタリティ全開で、未知いっぱいの世界を\\n'\n",
      "           'しぶとく楽しく生き抜いてみせる！！\\n'\n",
      "           '\\n'\n",
      "           'ひと味ちがう異世界転生物語、展開中です。',\n",
      "  'time': 1035,\n",
      "  'title': '骨身を惜しまず、挑め新世界！！',\n",
      "  'updated_at': '2019-12-28 13:30:17',\n",
      "  'userid': 1633646,\n",
      "  'weekly_point': 16,\n",
      "  'writer': '幸・彦',\n",
      "  'yearly_point': 242}]\n"
     ]
    }
   ],
   "source": [
    "url = \"http://api.syosetu.com/novelapi/api/?out=json&lim=1&gzip=5\"\n",
    "\n",
    "response = requests.get(url)\n",
    "response.encoding = 'gzip'\n",
    "\n",
    "r = response.content\n",
    "res_content = gzip.decompress(r).decode(\"utf-8\")\n",
    "response_json = json.loads(res_content)\n",
    "\n",
    "pprint(response_json)"
   ]
  },
  {
   "cell_type": "markdown",
   "metadata": {},
   "source": [
    "## Ncodeを生成する"
   ]
  },
  {
   "cell_type": "code",
   "execution_count": 13,
   "metadata": {},
   "outputs": [],
   "source": [
    "def get_ncode_all():\n",
    "    '''\n",
    "    なろうのncodeを作成するGenerator関数\n",
    "    n0000a から n9999zzまでの文字列を順に作成し，ncodeを返す\n",
    "    今回はn9999aまでを返すようにする\n",
    "    '''\n",
    "    narou_ncode = 'n'\n",
    "    before_ncode_character = string.ascii_lowercase\n",
    "    after_ncode_character = string.ascii_lowercase\n",
    "    ncode_number = 0\n",
    "    # roop valiable i , j\n",
    "    i = 0\n",
    "    j = 0\n",
    "\n",
    "    while True:\n",
    "        ncode_number = str(ncode_number).zfill(4)\n",
    "        if j == 0:\n",
    "            ncode = narou_ncode + ncode_number + before_ncode_character[i]\n",
    "        else:\n",
    "            ncode = narou_ncode + ncode_number + before_ncode_character[i] + after_ncode_character[j]\n",
    "\n",
    "        ncode_number = int(ncode_number)\n",
    "        yield ncode\n",
    "\n",
    "        ncode_cap = ncode.upper()\n",
    "\n",
    "        # 今回の上限を設定する\n",
    "        if ncode_cap == 'N9999A':\n",
    "            break\n",
    "\n",
    "        # ncodeのxxxx[a-z][a-z]を判別する\n",
    "        if ncode_number == 9999:\n",
    "            i += 1\n",
    "            if i == 26:\n",
    "                if j == 26:\n",
    "                    break\n",
    "                j += 1\n",
    "                i = 0\n",
    "            ncode_number = 0\n",
    "\n",
    "        ncode_number += 1"
   ]
  },
  {
   "cell_type": "code",
   "execution_count": 21,
   "metadata": {},
   "outputs": [
    {
     "name": "stdout",
     "output_type": "stream",
     "text": [
      "新規辞書データを作成し，使用します．\n"
     ]
    }
   ],
   "source": [
    "narou_title_dic = dict()\n",
    "\n",
    "try:\n",
    "    with open(data_path+\"narou_title_dic.pkl\") as f:\n",
    "        narou_title_dic = pickle.load(f)\n",
    "        print('作成された辞書を使用します．')\n",
    "except:\n",
    "    print('新規辞書データを作成し，使用します．')"
   ]
  },
  {
   "cell_type": "code",
   "execution_count": 23,
   "metadata": {},
   "outputs": [
    {
     "name": "stdout",
     "output_type": "stream",
     "text": [
      "now :  2019/12/28 20:25:48  count :  0\n",
      "now :  2019/12/28 20:31:29  count :  1000\n",
      "now :  2019/12/28 20:38:10  count :  2000\n",
      "now :  2019/12/28 20:45:00  count :  3000\n",
      "now :  2019/12/28 20:53:22  count :  4000\n",
      "now :  2019/12/28 20:59:14  count :  5000\n",
      "now :  2019/12/28 21:04:58  count :  6000\n",
      "now :  2019/12/28 21:10:41  count :  7000\n",
      "now :  2019/12/28 21:16:22  count :  8000\n",
      "now :  2019/12/28 21:22:03  count :  9000\n",
      "CPU times: user 52.6 s, sys: 8.52 s, total: 1min 1s\n",
      "Wall time: 1h 2min 7s\n"
     ]
    }
   ],
   "source": [
    "%%time\n",
    "\n",
    "count = 0\n",
    "for narou_ncode in get_ncode_all():\n",
    "    \n",
    "    url_before = \"http://api.syosetu.com/novelapi/api/?out=json&gzip=5&ncode=\"\n",
    "    url = url_before + narou_ncode\n",
    "    \n",
    "    if narou_ncode not in narou_title_dic:\n",
    "        time.sleep(1.09)\n",
    "        s = requests.Session()\n",
    "        response = s.get(url)\n",
    "        response.encoding = 'gzip'\n",
    "        r = response.content\n",
    "        res_content = gzip.decompress(r).decode(\"utf-8\")\n",
    "        response_json = json.loads(res_content)\n",
    "\n",
    "        if response_json[0]['allcount'] == 1:\n",
    "            narou_title_dic[str(narou_ncode)] = response_json[1]['title']\n",
    "#             print(narou_title_dic[narou_ncode])\n",
    "        else:\n",
    "            narou_title_dic[str(narou_ncode)] = '0'\n",
    "\n",
    "    \n",
    "    if count % 1000 == 0:\n",
    "        print(\"now : \",datetime.now().strftime(\"%Y/%m/%d %H:%M:%S\"),\" count : \",count)\n",
    "        \n",
    "    count += 1"
   ]
  },
  {
   "cell_type": "code",
   "execution_count": 24,
   "metadata": {},
   "outputs": [
    {
     "data": {
      "text/plain": [
       "10000"
      ]
     },
     "execution_count": 24,
     "metadata": {},
     "output_type": "execute_result"
    }
   ],
   "source": [
    "len(narou_title_dic)"
   ]
  },
  {
   "cell_type": "markdown",
   "metadata": {},
   "source": [
    "## Dictとして保存する"
   ]
  },
  {
   "cell_type": "code",
   "execution_count": 26,
   "metadata": {},
   "outputs": [],
   "source": [
    "with open(data_path+\"narou_title_dic.pkl\",\"wb\") as f:\n",
    "    pickle.dump(narou_title_dic,f)"
   ]
  },
  {
   "cell_type": "markdown",
   "metadata": {},
   "source": [
    "## 数値のkeyにした場合"
   ]
  },
  {
   "cell_type": "code",
   "execution_count": 135,
   "metadata": {},
   "outputs": [
    {
     "name": "stdout",
     "output_type": "stream",
     "text": [
      "CPU times: user 6.14 ms, sys: 1.19 ms, total: 7.33 ms\n",
      "Wall time: 8.09 ms\n"
     ]
    }
   ],
   "source": [
    "%%time\n",
    "\n",
    "narou_title_dic_s = dict()\n",
    "\n",
    "for k,v in narou_title_dic.items():\n",
    "    narou_title_dic_s[str(k)] = v"
   ]
  },
  {
   "cell_type": "code",
   "execution_count": 136,
   "metadata": {},
   "outputs": [],
   "source": [
    "df = pd.DataFrame(narou_title_dic_s,index=[\"nTitle\"])"
   ]
  },
  {
   "cell_type": "code",
   "execution_count": 137,
   "metadata": {},
   "outputs": [],
   "source": [
    "df = df.T"
   ]
  },
  {
   "cell_type": "code",
   "execution_count": 138,
   "metadata": {},
   "outputs": [
    {
     "data": {
      "text/html": [
       "<div>\n",
       "<style scoped>\n",
       "    .dataframe tbody tr th:only-of-type {\n",
       "        vertical-align: middle;\n",
       "    }\n",
       "\n",
       "    .dataframe tbody tr th {\n",
       "        vertical-align: top;\n",
       "    }\n",
       "\n",
       "    .dataframe thead th {\n",
       "        text-align: right;\n",
       "    }\n",
       "</style>\n",
       "<table border=\"1\" class=\"dataframe\">\n",
       "  <thead>\n",
       "    <tr style=\"text-align: right;\">\n",
       "      <th></th>\n",
       "      <th>nTitle</th>\n",
       "    </tr>\n",
       "  </thead>\n",
       "  <tbody>\n",
       "    <tr>\n",
       "      <th>n0000a</th>\n",
       "      <td>0</td>\n",
       "    </tr>\n",
       "    <tr>\n",
       "      <th>n0001a</th>\n",
       "      <td>0</td>\n",
       "    </tr>\n",
       "    <tr>\n",
       "      <th>n0002a</th>\n",
       "      <td>0</td>\n",
       "    </tr>\n",
       "    <tr>\n",
       "      <th>n0003a</th>\n",
       "      <td>0</td>\n",
       "    </tr>\n",
       "    <tr>\n",
       "      <th>n0004a</th>\n",
       "      <td>0</td>\n",
       "    </tr>\n",
       "  </tbody>\n",
       "</table>\n",
       "</div>"
      ],
      "text/plain": [
       "       nTitle\n",
       "n0000a      0\n",
       "n0001a      0\n",
       "n0002a      0\n",
       "n0003a      0\n",
       "n0004a      0"
      ]
     },
     "execution_count": 138,
     "metadata": {},
     "output_type": "execute_result"
    }
   ],
   "source": [
    "df.head(5)"
   ]
  },
  {
   "cell_type": "code",
   "execution_count": 139,
   "metadata": {},
   "outputs": [],
   "source": [
    "df_title = df[df['nTitle'] != 0]"
   ]
  },
  {
   "cell_type": "code",
   "execution_count": 140,
   "metadata": {},
   "outputs": [
    {
     "data": {
      "text/html": [
       "<div>\n",
       "<style scoped>\n",
       "    .dataframe tbody tr th:only-of-type {\n",
       "        vertical-align: middle;\n",
       "    }\n",
       "\n",
       "    .dataframe tbody tr th {\n",
       "        vertical-align: top;\n",
       "    }\n",
       "\n",
       "    .dataframe thead th {\n",
       "        text-align: right;\n",
       "    }\n",
       "</style>\n",
       "<table border=\"1\" class=\"dataframe\">\n",
       "  <thead>\n",
       "    <tr style=\"text-align: right;\">\n",
       "      <th></th>\n",
       "      <th>nTitle</th>\n",
       "    </tr>\n",
       "  </thead>\n",
       "  <tbody>\n",
       "    <tr>\n",
       "      <th>count</th>\n",
       "      <td>4241</td>\n",
       "    </tr>\n",
       "    <tr>\n",
       "      <th>unique</th>\n",
       "      <td>4167</td>\n",
       "    </tr>\n",
       "    <tr>\n",
       "      <th>top</th>\n",
       "      <td>赤い糸</td>\n",
       "    </tr>\n",
       "    <tr>\n",
       "      <th>freq</th>\n",
       "      <td>4</td>\n",
       "    </tr>\n",
       "  </tbody>\n",
       "</table>\n",
       "</div>"
      ],
      "text/plain": [
       "       nTitle\n",
       "count    4241\n",
       "unique   4167\n",
       "top       赤い糸\n",
       "freq        4"
      ]
     },
     "execution_count": 140,
     "metadata": {},
     "output_type": "execute_result"
    }
   ],
   "source": [
    "df_title.describe()"
   ]
  },
  {
   "cell_type": "markdown",
   "metadata": {},
   "source": [
    "## DataFrameとしてTitleのみを保存する"
   ]
  },
  {
   "cell_type": "code",
   "execution_count": 141,
   "metadata": {},
   "outputs": [],
   "source": [
    "with open(data_path+\"narou_title_pd.pkl\",\"wb\") as f:\n",
    "    pickle.dump(df_title,f)"
   ]
  },
  {
   "cell_type": "markdown",
   "metadata": {},
   "source": [
    "## SudachiPyで分かち書き"
   ]
  },
  {
   "cell_type": "code",
   "execution_count": 142,
   "metadata": {},
   "outputs": [
    {
     "name": "stdout",
     "output_type": "stream",
     "text": [
      "CPU times: user 1.79 ms, sys: 393 µs, total: 2.19 ms\n",
      "Wall time: 2.89 ms\n"
     ]
    }
   ],
   "source": [
    "%%time\n",
    "title_wakachi_word_set = set()\n",
    "df_title_words_list = []\n",
    "df_title_list = df_title['nTitle'].to_list()"
   ]
  },
  {
   "cell_type": "code",
   "execution_count": 143,
   "metadata": {},
   "outputs": [
    {
     "name": "stdout",
     "output_type": "stream",
     "text": [
      "CPU times: user 8.45 s, sys: 227 ms, total: 8.67 s\n",
      "Wall time: 10.1 s\n"
     ]
    }
   ],
   "source": [
    "%%time\n",
    "\n",
    "for df_title in df_title_list:\n",
    "    # 前処理\n",
    "    df_title =re.sub(r'[!-~]', \"\", df_title)#半角記号,数字,英字\n",
    "    df_title =re.sub(r'[︰-＠]', \"\", df_title)#全角記号\n",
    "    df_title =re.sub(r'[「」【】『』（）]', \"\", df_title)\n",
    "    df_title =re.sub(r'[〜。、]', \"\", df_title)#句読点\n",
    "    df_title =re.sub(r'\\u3000', \"\", df_title)#全角スペース\n",
    "    df_title =re.sub(r' ', \"\", df_title)#半角スペース\n",
    "    df_title =re.sub('\\n', \"\", df_title)#改行文字\n",
    "    \n",
    "    \n",
    "    wlist = [m.surface() for m in tokenizer_obj.tokenize(df_title, mode)]\n",
    "    for word in wlist:\n",
    "        if word != '':\n",
    "            title_wakachi_word_set.add(word)\n",
    "    if wlist != []:\n",
    "        df_title_words_list.append(wlist)\n"
   ]
  },
  {
   "cell_type": "code",
   "execution_count": 144,
   "metadata": {},
   "outputs": [
    {
     "data": {
      "text/plain": [
       "3936"
      ]
     },
     "execution_count": 144,
     "metadata": {},
     "output_type": "execute_result"
    }
   ],
   "source": [
    "len(df_title_words_list)"
   ]
  },
  {
   "cell_type": "markdown",
   "metadata": {},
   "source": [
    "## 語彙Setを保存する"
   ]
  },
  {
   "cell_type": "code",
   "execution_count": 145,
   "metadata": {},
   "outputs": [],
   "source": [
    "with open(data_path+\"narou_title_vocab.pkl\",\"wb\") as f:\n",
    "    pickle.dump(title_wakachi_word_set,f)"
   ]
  },
  {
   "cell_type": "markdown",
   "metadata": {},
   "source": [
    "## タイトルを分かち書きしたもの(list)を保存する"
   ]
  },
  {
   "cell_type": "code",
   "execution_count": 146,
   "metadata": {},
   "outputs": [],
   "source": [
    "with open(data_path+\"narou_title_words_list.pkl\",\"wb\") as f:\n",
    "    pickle.dump(df_title_words_list,f)"
   ]
  },
  {
   "cell_type": "code",
   "execution_count": null,
   "metadata": {},
   "outputs": [],
   "source": []
  }
 ],
 "metadata": {
  "kernelspec": {
   "display_name": "Python 3",
   "language": "python",
   "name": "python3"
  },
  "language_info": {
   "codemirror_mode": {
    "name": "ipython",
    "version": 3
   },
   "file_extension": ".py",
   "mimetype": "text/x-python",
   "name": "python",
   "nbconvert_exporter": "python",
   "pygments_lexer": "ipython3",
   "version": "3.6.8"
  }
 },
 "nbformat": 4,
 "nbformat_minor": 2
}
