{
 "cells": [
  {
   "cell_type": "markdown",
   "metadata": {},
   "source": [
    "## マルコフ連鎖でタイトル生成"
   ]
  },
  {
   "cell_type": "markdown",
   "metadata": {},
   "source": [
    "### 多くのサイトは２階マルコフ連鎖みたい"
   ]
  },
  {
   "cell_type": "code",
   "execution_count": 36,
   "metadata": {},
   "outputs": [],
   "source": [
    "import pickle\n",
    "import markovify # Default=2階マルコフ連鎖"
   ]
  },
  {
   "cell_type": "code",
   "execution_count": 37,
   "metadata": {},
   "outputs": [],
   "source": [
    "data_path = './ndata/'"
   ]
  },
  {
   "cell_type": "markdown",
   "metadata": {},
   "source": [
    "### markovifyのためにタイトルをスペースで連結し，改行を埋め込み，一つの文章にする"
   ]
  },
  {
   "cell_type": "code",
   "execution_count": 61,
   "metadata": {},
   "outputs": [],
   "source": [
    "with open(data_path+\"narou_title_words_list.pkl\", 'rb') as f:\n",
    "    wakachi_list = pickle.load(f)"
   ]
  },
  {
   "cell_type": "code",
   "execution_count": 62,
   "metadata": {},
   "outputs": [
    {
     "data": {
      "text/plain": [
       "[['総合', '調査', '会社', 'アジディックファイルジャッジメント'],\n",
       " ['傲慢', 'なる', '少年', 'の', '傀儡'],\n",
       " ['一人', '旅'],\n",
       " ['軍', 'いくさ', '神', 'の', '剣'],\n",
       " ['キャリアウト']]"
      ]
     },
     "execution_count": 62,
     "metadata": {},
     "output_type": "execute_result"
    }
   ],
   "source": [
    "wakachi_list[:5]"
   ]
  },
  {
   "cell_type": "code",
   "execution_count": 63,
   "metadata": {},
   "outputs": [],
   "source": [
    "title_txt = ''\n",
    "for title_l in wakachi_list:\n",
    "    nline = ''\n",
    "    for title in title_l:\n",
    "        nline += title + ' '\n",
    "    nline = nline[:len(nline)-1] + '\\n'\n",
    "    title_txt += nline"
   ]
  },
  {
   "cell_type": "code",
   "execution_count": 64,
   "metadata": {},
   "outputs": [],
   "source": [
    "text_model = markovify.NewlineText(title_txt, state_size=3)"
   ]
  },
  {
   "cell_type": "code",
   "execution_count": 65,
   "metadata": {},
   "outputs": [
    {
     "name": "stdout",
     "output_type": "stream",
     "text": [
      "名の意味は神の仰せのままに\n",
      "端的に物事を語れるほど僕らは太陽の下で\n",
      "逢いたくて・・・こっくりさん\n",
      "一番近き愛しい人よどこにいても…\n",
      "名の意味は神の仰せのままに\n",
      "魔法使いのいない国第一部友との絆・互いの思い\n",
      "湖底の街に吹く風零・・音編\n",
      "いつも桜の木を見て君を詠む\n",
      "選択型お題背中オーサムコーラル国物語\n",
      "夢の中には君がいた夏‐これからの僕‐\n"
     ]
    }
   ],
   "source": [
    "for _ in range(10):\n",
    "    sentence = text_model.make_short_sentence(max_chars=100, min_chars=20, tries=100).replace(' ', '')\n",
    "    print(sentence)"
   ]
  },
  {
   "cell_type": "code",
   "execution_count": 66,
   "metadata": {},
   "outputs": [
    {
     "name": "stdout",
     "output_type": "stream",
     "text": [
      "名の意味は神の仰せのままに\n",
      "東京オカルトプロジェクト二つの物語が交錯するとき\n",
      "トマトの胸の中には君がいた日々\n",
      "雨とアスファルトと彼女の恋話\n",
      "狐神リアル・・・そして出会い\n",
      "噂が噂を本当になってね……\n",
      "いつも桜の木を見て君を詠む\n",
      "一歩先からヤミ集えぼくらの歌はあわわわぁ♪\n",
      "僕と猫と彼女と魔法の関係式\n",
      "あたしのお隣さんは極道さん\n",
      "扉の向こうはミステリー第一章されど人はその歴史を知らず\n",
      "笑わずの魔女と魔法の関係式\n",
      "名の意味は神の仰せのままに\n",
      "晴れのち雨またはあなたのそばで生きたい\n",
      "魔法使いのいない国第一部友との絆・互いの思い外伝編\n",
      "私が私でいることと記すということ\n",
      "世界は耳障りな雨の中には君がいた日々\n",
      "ここがゲームの世界だと誰もが知っていても幸せでいて\n",
      "東京オカルトプロジェクト二つの物語が交錯するとき\n",
      "東京オカルトプロジェクト二つの世界の誕生と崩壊の歴史\n",
      "僕と猫と彼女と僕の気持ち\n",
      "選択型お題背中オーサムコーラル国物語\n",
      "トマトの胸の中にｓｉｎｎｅｒｒｅｔｕｒｎ\n",
      "湖底の街に吹く風春野天使編\n",
      "神剣慟哭する現代滝口譚・序\n",
      "心臓が鳴るその音が鳴り止む前に\n",
      "忍者がお家にやってこない親仁変\n",
      "端的に物事を語れるほど僕らは太陽の下で\n",
      "端的に物事を語れるほど僕らは太陽の下で\n",
      "僕と猫と彼女と魔法の関係式\n"
     ]
    }
   ],
   "source": [
    "for _ in range(30):\n",
    "    sentence = text_model.make_short_sentence(max_chars=100, min_chars=20, tries=100).replace(' ', '')\n",
    "    print(sentence)"
   ]
  },
  {
   "cell_type": "code",
   "execution_count": null,
   "metadata": {},
   "outputs": [],
   "source": []
  }
 ],
 "metadata": {
  "kernelspec": {
   "display_name": "Python 3",
   "language": "python",
   "name": "python3"
  },
  "language_info": {
   "codemirror_mode": {
    "name": "ipython",
    "version": 3
   },
   "file_extension": ".py",
   "mimetype": "text/x-python",
   "name": "python",
   "nbconvert_exporter": "python",
   "pygments_lexer": "ipython3",
   "version": "3.6.8"
  }
 },
 "nbformat": 4,
 "nbformat_minor": 2
}
